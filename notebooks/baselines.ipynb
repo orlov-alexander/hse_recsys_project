{
 "cells": [
  {
   "cell_type": "markdown",
   "metadata": {},
   "source": [
    "В данном ноутбуке для сравнения были сделаны несколько тривиальных решений, для сравнения в качестве базового варианта"
   ]
  },
  {
   "cell_type": "code",
   "execution_count": 1,
   "metadata": {},
   "outputs": [],
   "source": [
    "import numpy as np \n",
    "import pandas as pd\n",
    "import matplotlib.pyplot as plt\n",
    "import seaborn as sns\n",
    "color = sns.color_palette()\n",
    "%matplotlib inline\n",
    "from subprocess import check_output\n",
    "from sklearn.model_selection import train_test_split\n",
    "from collections import defaultdict"
   ]
  },
  {
   "cell_type": "code",
   "execution_count": 2,
   "metadata": {},
   "outputs": [],
   "source": [
    "order_products_train_df = pd.read_csv(\"../data/input/order_products__train.csv\")\n",
    "order_products_prior_df = pd.read_csv(\"../data/input/order_products__prior.csv\")\n",
    "orders_df = pd.read_csv(\"../data/input/orders.csv\")\n",
    "products_df = pd.read_csv(\"../data/input/products.csv\")\n",
    "aisles_df = pd.read_csv(\"../data/input/aisles.csv\")\n",
    "departments_df = pd.read_csv(\"../data/input/departments.csv\")"
   ]
  },
  {
   "cell_type": "markdown",
   "metadata": {},
   "source": [
    "разбиение на train, val."
   ]
  },
  {
   "cell_type": "code",
   "execution_count": 3,
   "metadata": {},
   "outputs": [],
   "source": [
    "train_ids, val_ids = train_test_split(orders_df.query('eval_set == \"train\"')['user_id'].unique(), test_size = 0.3, random_state = 1)\n",
    "train_ids, val_ids = set(train_ids), set(val_ids)"
   ]
  },
  {
   "cell_type": "markdown",
   "metadata": {},
   "source": [
    "вспомогательные функции"
   ]
  },
  {
   "cell_type": "code",
   "execution_count": 4,
   "metadata": {},
   "outputs": [],
   "source": [
    "def f1_score(true_list, pred_list):\n",
    "    if true_list == [] and pred_list == []:\n",
    "        raise ValueError((true_list, pred_list)) \n",
    "    true = set(true_list)\n",
    "    pred = set(pred_list)\n",
    "    cross_size = len(true & pred)\n",
    "    if cross_size == 0:\n",
    "        return 0\n",
    "    p = 1. * cross_size / len(pred)\n",
    "    r = 1. * cross_size / len(true)\n",
    "    return 2 * p * r / (p + r)\n",
    "\n",
    "def get_basket_dict(df):\n",
    "    d = defaultdict(list)\n",
    "    for product, order_id in zip(df['product_id'], df['user_id']):\n",
    "        d[order_id].append(product)\n",
    "    return d\n",
    "\n",
    "def in_val(x):\n",
    "    if x in train_ids:\n",
    "        return 0\n",
    "    elif x in val_ids:\n",
    "        return 1\n",
    "    else:\n",
    "        raise ValueError('wrong id')\n",
    "\n",
    "def score_baskets(pred_baskets, true_baskets):\n",
    "    scores = [f1_score(products, pred_baskets[order]) for order, products in true_baskets.items()]\n",
    "    return np.mean(scores)"
   ]
  },
  {
   "cell_type": "markdown",
   "metadata": {},
   "source": [
    "создаем словари вида user_id: (list of product_id) для того, чтобы можно было скоринг сделать"
   ]
  },
  {
   "cell_type": "code",
   "execution_count": 5,
   "metadata": {},
   "outputs": [],
   "source": [
    "temp = order_products_train_df.merge(orders_df[['order_id', 'user_id']], how = 'inner', on = ['order_id'])\n",
    "temp['is_val'] = temp['user_id'].apply(in_val)\n",
    "\n",
    "train_baskets = get_basket_dict(temp.query('is_val == 0'))\n",
    "val_baskets = get_basket_dict(temp.query('is_val == 1'))"
   ]
  },
  {
   "cell_type": "markdown",
   "metadata": {},
   "source": [
    "### Базовое решение 1.\n",
    "Покупатели повторяют все, что раньше заказывали."
   ]
  },
  {
   "cell_type": "code",
   "execution_count": 6,
   "metadata": {
    "scrolled": true
   },
   "outputs": [
    {
     "name": "stdout",
     "output_type": "stream",
     "text": [
      "Train:  0.19757637893447272\n",
      "Val:  0.19728520196853316\n"
     ]
    }
   ],
   "source": [
    "history = order_products_prior_df.merge(orders_df.query('eval_set == \"prior\"')[['order_id', 'user_id']], \n",
    "                                        how = 'inner', on = ['order_id'])\n",
    "\n",
    "baseline_1_prediction = get_basket_dict(history)\n",
    "\n",
    "print('Train: ', score_baskets(baseline_1_prediction, train_baskets))\n",
    "print('Val: ', score_baskets(baseline_1_prediction, val_baskets))"
   ]
  },
  {
   "cell_type": "markdown",
   "metadata": {},
   "source": [
    "### Базовое решение 2.\n",
    "Покупатели повторяют все, что перезаказываемое из истории заказов."
   ]
  },
  {
   "cell_type": "code",
   "execution_count": 7,
   "metadata": {},
   "outputs": [
    {
     "name": "stdout",
     "output_type": "stream",
     "text": [
      "Train:  0.2512355052520194\n",
      "Val:  0.2499764993808088\n"
     ]
    }
   ],
   "source": [
    "baseline_2_prediction = get_basket_dict(history.query('reordered == 1'))\n",
    "\n",
    "print('Train: ', score_baskets(baseline_2_prediction, train_baskets))\n",
    "print('Val: ', score_baskets(baseline_2_prediction, val_baskets))"
   ]
  },
  {
   "cell_type": "markdown",
   "metadata": {},
   "source": [
    "### Базовое решение 3.\n",
    "Покупатели повторяют прошлую покупку."
   ]
  },
  {
   "cell_type": "code",
   "execution_count": 8,
   "metadata": {},
   "outputs": [
    {
     "name": "stdout",
     "output_type": "stream",
     "text": [
      "Train:  0.26150811054948786\n",
      "Val:  0.2619116555459477\n"
     ]
    }
   ],
   "source": [
    "prev_order = orders_df.sort_values(['user_id', 'order_number'])\\\n",
    "                      .query('eval_set == \"prior\"')\\\n",
    "                      .drop_duplicates(subset=['user_id'], keep='last')[['order_id', 'user_id']]\n",
    "\n",
    "prev_basket = order_products_prior_df.merge(prev_order, how = 'inner', on = ['order_id'])\n",
    "prev_basket.head(5)\n",
    "\n",
    "baseline_3_prediction = get_basket_dict(prev_basket)\n",
    "\n",
    "print('Train: ', score_baskets(baseline_3_prediction, train_baskets))\n",
    "print('Val: ', score_baskets(baseline_3_prediction, val_baskets))"
   ]
  },
  {
   "cell_type": "markdown",
   "metadata": {},
   "source": [
    "### Базовое решение 4.\n",
    "Покупатели повторяют прошлую покупку, но при этом оставляют только то, что раньше заказывали."
   ]
  },
  {
   "cell_type": "code",
   "execution_count": 9,
   "metadata": {},
   "outputs": [
    {
     "name": "stdout",
     "output_type": "stream",
     "text": [
      "Train:  0.24707796891157688\n",
      "Val:  0.24737140721780046\n"
     ]
    }
   ],
   "source": [
    "prev_basket_reordered = order_products_prior_df.merge(prev_order, how = 'inner', on = ['order_id']).query('reordered == 1')\n",
    "prev_basket_reordered.head(5)\n",
    "\n",
    "baseline_4_prediction = get_basket_dict(prev_basket_reordered)\n",
    "\n",
    "print('Train: ', score_baskets(baseline_4_prediction, train_baskets))\n",
    "print('Val: ', score_baskets(baseline_4_prediction, val_baskets))"
   ]
  }
 ],
 "metadata": {
  "_change_revision": 0,
  "_is_fork": false,
  "kernelspec": {
   "display_name": "Python 3",
   "language": "python",
   "name": "python3"
  },
  "language_info": {
   "codemirror_mode": {
    "name": "ipython",
    "version": 3
   },
   "file_extension": ".py",
   "mimetype": "text/x-python",
   "name": "python",
   "nbconvert_exporter": "python",
   "pygments_lexer": "ipython3",
   "version": "3.6.7"
  }
 },
 "nbformat": 4,
 "nbformat_minor": 1
}
